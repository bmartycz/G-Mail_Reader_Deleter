{
 "cells": [
  {
   "cell_type": "code",
   "execution_count": null,
   "metadata": {},
   "outputs": [],
   "source": [
    "import imaplib\n",
    "import email\n",
    "import os\n",
    "import pandas\n",
    "import csv\n",
    "import partition\n",
    "from email.parser import HeaderParser\n",
    "import seaborn\n",
    "from email.header import decode_header\n",
    "from base64 import decode\n",
    "from email.header import decode_header\n",
    "from sqlite3 import sqlite_version\n",
    "import sqlite3\n",
    "import tkinter \n",
    "from tkinter import *"
   ]
  },
  {
   "cell_type": "code",
   "execution_count": null,
   "metadata": {},
   "outputs": [],
   "source": [
    "y = input('Whats the gmail User Name?')\n",
    "z = input('What is the password for applications to access your gmail?')\n",
    "box = imaplib.IMAP4_SSL(\"imap.gmail.com\")\n",
    "r = box.login(y,z)\n",
    "r"
   ]
  },
  {
   "cell_type": "code",
   "execution_count": null,
   "metadata": {},
   "outputs": [],
   "source": [
    "# EMAIL READER / DATA FRAME CREATION / WILL STAY LOGGED IN\n",
    "subs = []\n",
    "sndrs = []      \n",
    "dates = []\n",
    "mnms = []\n",
    "\n",
    "root2 = Tk()\n",
    "root2.title('EMAIL READER AND DATA FRAME CREATOR')\n",
    "mylabel2 = Label(root2, text=\"Select BOX to READ:\")\n",
    "mylabel2.pack()\n",
    "ddyahck2 = [\"Inbox\", \"[Gmail]/Spam\"]\n",
    "clickedd2 = StringVar()\n",
    "clickedd2.set(ddyahck2[0])\n",
    "ddy2 = OptionMenu(root2, clickedd2, *ddyahck2)\n",
    "ddy2.pack()\n",
    "\n",
    "\n",
    "def myclick2():\n",
    "        box.select(clickedd2.get())\n",
    "        status, msgnums = box.search(None, \"ALL\")\n",
    "        msgnums = msgnums[0].split(b' ')\n",
    "\n",
    "        if True:\n",
    "                r == 'OK', [b'bmartycz@gmail.com authenticated (Success)']\n",
    "                try:\n",
    "                        def readloop():\n",
    "                                for msgnum in msgnums:\n",
    "                                        _, msg = box.fetch(msgnum, \"(RFC822)\")\n",
    "                                        for response in msg:\n",
    "                                                if isinstance(response, tuple):\n",
    "                                                        msg = email.message_from_bytes(response[1])\n",
    "                                        if msg[\"Subject\"] is not None:\n",
    "                                                subject = decode_header(msg[\"Subject\"])[0][0]\n",
    "                                                if isinstance(subject, bytes):\n",
    "                                                        subject = subject.decode(errors= 'ignore')\n",
    "                                                if isinstance(subject, str):\n",
    "                                                        subject = subject                \n",
    "                                        else:\n",
    "                                                subject = \"NONE\" \n",
    "                                        #print(\"Subject:\", subject) \n",
    "                                        subs.append(subject) \n",
    "\n",
    "                                        if msg[\"From\"] is not None:\n",
    "                                                senders = decode_header(msg[\"From\"])[0]  \n",
    "                                                mnms.append(msgnum)     \n",
    "                                        sndrs.append(senders)\n",
    "                \n",
    "                                        if msg['Date'] is not None :\n",
    "                                                datee = decode_header(msg['Date'])[0]\n",
    "                                        dates.append(datee)\n",
    "                        readloop()\n",
    "                except box.abort:\n",
    "                        r\n",
    "                        print(\"Logged back in\")\n",
    "                        readloop()\n",
    "\n",
    "\n",
    "reademails =  Button(root2, text=\"Read the E-Mails\", padx=25, pady=18, command= myclick2, fg=\"red\", bg=\"black\")\n",
    "reademails.pack()\n",
    "\n",
    "root2.mainloop()\n",
    "\n",
    "df = {'Subject': subs}\n",
    "dfs = {'From': sndrs}\n",
    "dfb = {'Subject': subs, 'From': sndrs}\n",
    "dfaa = {'Msgnum' : mnms, 'From': sndrs, 'Date' : dates, 'Subject': subs}\n"
   ]
  },
  {
   "cell_type": "code",
   "execution_count": null,
   "metadata": {},
   "outputs": [],
   "source": [
    "# DATA FRAME MANIPULATION AND ANALYSIS\n",
    "from operator import countOf\n",
    "df = pandas.DataFrame.from_dict(df)\n",
    "dfs = pandas.DataFrame.from_dict(dfs)\n",
    "dfb = pandas.DataFrame.from_dict(dfb)\n",
    "dfaa = pandas.DataFrame.from_dict(dfaa)\n",
    "dfaa.to_csv('dfaa.csv')\n",
    "dfb['From'].to_string().lstrip('<').rstrip('>')\n",
    "dfb.to_csv('dfb.csv')\n",
    "dfs['Count'] = 1\n",
    "x=0\n",
    "for frm in dfs['From']:\n",
    "    dfs['From'][x]= dfs['From'][x][0]\n",
    "    x=x+1\n",
    "dfn = pandas.DataFrame()\n",
    "dfn['Freq'] = dfs.groupby(['From'])[['Count']].sum()\n",
    "dff = dfn.sort_values('Freq', axis = 0, ascending= False)\n",
    "dff.to_csv('dff.csv')\n",
    "dfd = pandas.read_csv('dff.csv')\n",
    "dfd['From'][0]\n",
    "dfd"
   ]
  },
  {
   "cell_type": "code",
   "execution_count": null,
   "metadata": {},
   "outputs": [],
   "source": [
    "#DISPLAY DATA FRAME OF SENDERS AND CORRESPONDING EMAIL COUNTS\n",
    "dfd = pandas.read_csv('dff.csv')\n",
    "dfd[0:30]"
   ]
  },
  {
   "cell_type": "code",
   "execution_count": null,
   "metadata": {},
   "outputs": [
    {
     "ename": "",
     "evalue": "",
     "output_type": "error",
     "traceback": [
      "\u001b[1;31mCanceled future for execute_request message before replies were done"
     ]
    },
    {
     "ename": "",
     "evalue": "",
     "output_type": "error",
     "traceback": [
      "\u001b[1;31mThe Kernel crashed while executing code in the the current cell or a previous cell. Please review the code in the cell(s) to identify a possible cause of the failure. Click <a href='https://aka.ms/vscodeJupyterKernelCrash'>here</a> for more info. View Jupyter <a href='command:jupyter.viewOutput'>log</a> for further details."
     ]
    }
   ],
   "source": [
    "#EMAIL DELETER (SELECT A SENDER)\n",
    "root = Tk()\n",
    "root.title('EMAIL DELETER FOR SPECIFIC SENDER')\n",
    "mylabel = Label(root, text=\"Select the Sender of the E-Mails to DELETE:\")\n",
    "mylabel.pack()\n",
    "\n",
    "ddemailsndrs = dfd['From'][0:30]\n",
    "\n",
    "clickedd = StringVar()\n",
    "clickedd.set(ddemailsndrs[0])\n",
    "\n",
    "ddes = OptionMenu(root, clickedd, *ddemailsndrs)\n",
    "ddes.pack()\n",
    "\n",
    "def myclick():\n",
    "    mylabel2 = Label(root, text= \"Deleting Emails\")\n",
    "    mylabel2.pack()\n",
    "    sndrs2 = [] \n",
    "    #box.select(clickedd2.get())\n",
    "    box.select(\"Inbox\")\n",
    "    status, msgnums = box.search(None, \"ALL\")\n",
    "    msgnums = msgnums[0].split(b' ')\n",
    "\n",
    "    if True:\n",
    "            r == 'OK', [b'bmartycz@gmail.com authenticated (Success)']\n",
    "            try:\n",
    "                def deleteloop():\n",
    "                    for msgnum in msgnums:\n",
    "                            _, msg = box.fetch(msgnum, \"(RFC822)\")\n",
    "                            for response in msg:\n",
    "                                    if isinstance(response, tuple):\n",
    "                                            msg = email.message_from_bytes(response[1])\n",
    "                            if msg[\"From\"] is not None:\n",
    "                                    senders2 = decode_header(msg[\"From\"])[0]\n",
    "                            else: \n",
    "                                    senders2 = int(msg[\"From\"][0])\n",
    "                                    senders2 = list(senders2)\n",
    "                            sndrs2.append(senders2)\n",
    "                            #print(senders2)\n",
    "                            if clickedd.get() in senders2:\n",
    "                                    print(\"Deleting:\", senders2)\n",
    "                                    box.store(msgnum, \"+FLAGS\", \"\\\\Deleted\")\n",
    "                    box.expunge()\n",
    "                deleteloop() \n",
    "            except box.abort:\n",
    "                    r\n",
    "                    print(\"LOGGED BACK IN\")\n",
    "                    deleteloop()\n",
    "    print(\"Done! :)\")    \n",
    "deleteemailss = Button(root, text=\"DELETE the E-Mails\", padx=25, pady=18, command= myclick, fg=\"red\", bg=\"black\")\n",
    "deleteemailss.pack()\n",
    "\n",
    "root.mainloop()"
   ]
  }
 ],
 "metadata": {
  "kernelspec": {
   "display_name": "Python 3",
   "language": "python",
   "name": "python3"
  },
  "language_info": {
   "codemirror_mode": {
    "name": "ipython",
    "version": 3
   },
   "file_extension": ".py",
   "mimetype": "text/x-python",
   "name": "python",
   "nbconvert_exporter": "python",
   "pygments_lexer": "ipython3",
   "version": "3.10.10"
  },
  "orig_nbformat": 4,
  "vscode": {
   "interpreter": {
    "hash": "0c9b280e57429b1862e90d5207424d66e822233016baa212e98560ab6150fd11"
   }
  }
 },
 "nbformat": 4,
 "nbformat_minor": 2
}
